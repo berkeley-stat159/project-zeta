{
 "cells": [
  {
   "cell_type": "code",
   "execution_count": 68,
   "metadata": {
    "collapsed": false
   },
   "outputs": [
    {
     "name": "stdout",
     "output_type": "stream",
     "text": [
      "Using matplotlib backend: MacOSX\n"
     ]
    }
   ],
   "source": [
    "# load important packages\n",
    "from __future__ import print_function, division\n",
    "import numpy as np\n",
    "import nibabel as nib\n",
    "%matplotlib\n",
    "import matplotlib.pyplot as plt\n",
    "import re"
   ]
  },
  {
   "cell_type": "code",
   "execution_count": 69,
   "metadata": {
    "collapsed": true
   },
   "outputs": [],
   "source": [
    "from stimuli import events2neural"
   ]
  },
  {
   "cell_type": "code",
   "execution_count": 70,
   "metadata": {
    "collapsed": true
   },
   "outputs": [],
   "source": [
    "# %load subject_class.py\n",
    "from __future__ import print_function, division\n",
    "import numpy as np\n",
    "import nibabel as nib\n",
    "import matplotlib.pyplot as plt\n",
    "\n",
    "class subject(object):\n",
    "    \"\"\"try to organize data based on subject ex sub001\"\"\"\n",
    "    def __init__(self,sub):\n",
    "        # subject info ex: 'sub001'\n",
    "        self.sub_id = sub\n",
    "\n",
    "        # BOLD folder for this subject\n",
    "        sub_BOLD_path = \"../data/ds105/%s/BOLD/\" %self.sub_id\n",
    "\n",
    "        # anatomy folder for this subject\n",
    "        sub_anatomy_file = \"../data/ds105/%s/anatomy/highres001_brain.nii.gz\" %self.sub_id\n",
    "        \n",
    "        # runfile_list: ['task001_run001', 'task001_run002'......]\n",
    "        runfile_list = ['task001_run'+ i+ '.txt' for i in ['001','002','003','004','005','006','007','008','009','010','011','012']]\n",
    "        runlist = ['run'+ i for i in ['001','002','003','004','005','006','007','008','009','010','011','012']]\n",
    "        \n",
    "        # TR info:\n",
    "        self.TR = 2.5\n",
    "        \n",
    "        # load high resolution brain structure for this subject\n",
    "        self.brain_img = nib.load(sub_anatomy_file)\n",
    "        \n",
    "        # load all bold image file for this subject\n",
    "        self.run_img_result = {}\n",
    "        for i in runlist:\n",
    "            self.run_img_result[self.sub_id + '_' + i] = nib.load(sub_BOLD_path+'task001_'+i+'/bold.nii.gz')\n",
    "        \n",
    "        # all run keys:\n",
    "        self.run_keys = self.run_img_result.keys()\n",
    "\n",
    "        # shape of the BOLD data:\n",
    "        self.BOLD_shape = self.run_img_result[self.run_keys[1]].shape\n",
    "        \n",
    "        # conditions setting: which condition is for which category\n",
    "        self.condition_key_file = open(\"../data/ds105/models/model001/condition_key.txt\")\n",
    "        condition_list = self.condition_key_file.readlines()\n",
    "        condition = re.compile(r'(cond\\d+) (\\w+)')\n",
    "        result = {}\n",
    "        for item in condition_list:\n",
    "            for match in condition.finditer(item):\n",
    "                result[match.group(1)] = match.group(2)\n",
    "        self.condition_key = result\n",
    "        \n",
    "        # condition files for each objects for each run\n",
    "        sub_condition_path = \"../data/ds105/%s/model/model001/onsets/\" %self.sub_id\n",
    "        self.conditions = {}\n",
    "        for i in runfile_list:\n",
    "            for j in self.condition_key.keys():\n",
    "                self.conditions[i[8:14]+'-'+self.condition_key[j]] = sub_condition_path + i[:-4]+'/'+j+'.txt'\n",
    "                   \n",
    "                \n",
    "\n"
   ]
  },
  {
   "cell_type": "code",
   "execution_count": 71,
   "metadata": {
    "collapsed": false
   },
   "outputs": [],
   "source": [
    "sub1 = subject(\"sub001\")"
   ]
  },
  {
   "cell_type": "code",
   "execution_count": 72,
   "metadata": {
    "collapsed": false
   },
   "outputs": [
    {
     "data": {
      "text/plain": [
       "(40, 64, 64, 121)"
      ]
     },
     "execution_count": 72,
     "metadata": {},
     "output_type": "execute_result"
    }
   ],
   "source": [
    "sub1.BOLD_shape"
   ]
  },
  {
   "cell_type": "code",
   "execution_count": 73,
   "metadata": {
    "collapsed": false
   },
   "outputs": [
    {
     "data": {
      "text/plain": [
       "2.5"
      ]
     },
     "execution_count": 73,
     "metadata": {},
     "output_type": "execute_result"
    }
   ],
   "source": [
    "sub1.TR"
   ]
  },
  {
   "cell_type": "code",
   "execution_count": 74,
   "metadata": {
    "collapsed": false
   },
   "outputs": [
    {
     "data": {
      "text/plain": [
       "<nibabel.nifti1.Nifti1Image at 0x10cebe250>"
      ]
     },
     "execution_count": 74,
     "metadata": {},
     "output_type": "execute_result"
    }
   ],
   "source": [
    "sub1.brain_img"
   ]
  },
  {
   "cell_type": "code",
   "execution_count": 75,
   "metadata": {
    "collapsed": false
   },
   "outputs": [
    {
     "data": {
      "text/plain": [
       "{'cond001': 'house',\n",
       " 'cond002': 'scrambledpix',\n",
       " 'cond003': 'cat',\n",
       " 'cond004': 'shoe',\n",
       " 'cond005': 'bottle',\n",
       " 'cond006': 'scissors',\n",
       " 'cond007': 'chair',\n",
       " 'cond008': 'face'}"
      ]
     },
     "execution_count": 75,
     "metadata": {},
     "output_type": "execute_result"
    }
   ],
   "source": [
    "sub1.condition_key"
   ]
  },
  {
   "cell_type": "code",
   "execution_count": 76,
   "metadata": {
    "collapsed": false
   },
   "outputs": [],
   "source": [
    "sub1_condition_files = sub1.conditions"
   ]
  },
  {
   "cell_type": "code",
   "execution_count": 77,
   "metadata": {
    "collapsed": false
   },
   "outputs": [
    {
     "data": {
      "text/plain": [
       "{'run001-bottle': '../data/ds105/sub001/model/model001/onsets/task001_run001/cond005.txt',\n",
       " 'run001-cat': '../data/ds105/sub001/model/model001/onsets/task001_run001/cond003.txt',\n",
       " 'run001-chair': '../data/ds105/sub001/model/model001/onsets/task001_run001/cond007.txt',\n",
       " 'run001-face': '../data/ds105/sub001/model/model001/onsets/task001_run001/cond008.txt',\n",
       " 'run001-house': '../data/ds105/sub001/model/model001/onsets/task001_run001/cond001.txt',\n",
       " 'run001-scissors': '../data/ds105/sub001/model/model001/onsets/task001_run001/cond006.txt',\n",
       " 'run001-scrambledpix': '../data/ds105/sub001/model/model001/onsets/task001_run001/cond002.txt',\n",
       " 'run001-shoe': '../data/ds105/sub001/model/model001/onsets/task001_run001/cond004.txt',\n",
       " 'run002-bottle': '../data/ds105/sub001/model/model001/onsets/task001_run002/cond005.txt',\n",
       " 'run002-cat': '../data/ds105/sub001/model/model001/onsets/task001_run002/cond003.txt',\n",
       " 'run002-chair': '../data/ds105/sub001/model/model001/onsets/task001_run002/cond007.txt',\n",
       " 'run002-face': '../data/ds105/sub001/model/model001/onsets/task001_run002/cond008.txt',\n",
       " 'run002-house': '../data/ds105/sub001/model/model001/onsets/task001_run002/cond001.txt',\n",
       " 'run002-scissors': '../data/ds105/sub001/model/model001/onsets/task001_run002/cond006.txt',\n",
       " 'run002-scrambledpix': '../data/ds105/sub001/model/model001/onsets/task001_run002/cond002.txt',\n",
       " 'run002-shoe': '../data/ds105/sub001/model/model001/onsets/task001_run002/cond004.txt',\n",
       " 'run003-bottle': '../data/ds105/sub001/model/model001/onsets/task001_run003/cond005.txt',\n",
       " 'run003-cat': '../data/ds105/sub001/model/model001/onsets/task001_run003/cond003.txt',\n",
       " 'run003-chair': '../data/ds105/sub001/model/model001/onsets/task001_run003/cond007.txt',\n",
       " 'run003-face': '../data/ds105/sub001/model/model001/onsets/task001_run003/cond008.txt',\n",
       " 'run003-house': '../data/ds105/sub001/model/model001/onsets/task001_run003/cond001.txt',\n",
       " 'run003-scissors': '../data/ds105/sub001/model/model001/onsets/task001_run003/cond006.txt',\n",
       " 'run003-scrambledpix': '../data/ds105/sub001/model/model001/onsets/task001_run003/cond002.txt',\n",
       " 'run003-shoe': '../data/ds105/sub001/model/model001/onsets/task001_run003/cond004.txt',\n",
       " 'run004-bottle': '../data/ds105/sub001/model/model001/onsets/task001_run004/cond005.txt',\n",
       " 'run004-cat': '../data/ds105/sub001/model/model001/onsets/task001_run004/cond003.txt',\n",
       " 'run004-chair': '../data/ds105/sub001/model/model001/onsets/task001_run004/cond007.txt',\n",
       " 'run004-face': '../data/ds105/sub001/model/model001/onsets/task001_run004/cond008.txt',\n",
       " 'run004-house': '../data/ds105/sub001/model/model001/onsets/task001_run004/cond001.txt',\n",
       " 'run004-scissors': '../data/ds105/sub001/model/model001/onsets/task001_run004/cond006.txt',\n",
       " 'run004-scrambledpix': '../data/ds105/sub001/model/model001/onsets/task001_run004/cond002.txt',\n",
       " 'run004-shoe': '../data/ds105/sub001/model/model001/onsets/task001_run004/cond004.txt',\n",
       " 'run005-bottle': '../data/ds105/sub001/model/model001/onsets/task001_run005/cond005.txt',\n",
       " 'run005-cat': '../data/ds105/sub001/model/model001/onsets/task001_run005/cond003.txt',\n",
       " 'run005-chair': '../data/ds105/sub001/model/model001/onsets/task001_run005/cond007.txt',\n",
       " 'run005-face': '../data/ds105/sub001/model/model001/onsets/task001_run005/cond008.txt',\n",
       " 'run005-house': '../data/ds105/sub001/model/model001/onsets/task001_run005/cond001.txt',\n",
       " 'run005-scissors': '../data/ds105/sub001/model/model001/onsets/task001_run005/cond006.txt',\n",
       " 'run005-scrambledpix': '../data/ds105/sub001/model/model001/onsets/task001_run005/cond002.txt',\n",
       " 'run005-shoe': '../data/ds105/sub001/model/model001/onsets/task001_run005/cond004.txt',\n",
       " 'run006-bottle': '../data/ds105/sub001/model/model001/onsets/task001_run006/cond005.txt',\n",
       " 'run006-cat': '../data/ds105/sub001/model/model001/onsets/task001_run006/cond003.txt',\n",
       " 'run006-chair': '../data/ds105/sub001/model/model001/onsets/task001_run006/cond007.txt',\n",
       " 'run006-face': '../data/ds105/sub001/model/model001/onsets/task001_run006/cond008.txt',\n",
       " 'run006-house': '../data/ds105/sub001/model/model001/onsets/task001_run006/cond001.txt',\n",
       " 'run006-scissors': '../data/ds105/sub001/model/model001/onsets/task001_run006/cond006.txt',\n",
       " 'run006-scrambledpix': '../data/ds105/sub001/model/model001/onsets/task001_run006/cond002.txt',\n",
       " 'run006-shoe': '../data/ds105/sub001/model/model001/onsets/task001_run006/cond004.txt',\n",
       " 'run007-bottle': '../data/ds105/sub001/model/model001/onsets/task001_run007/cond005.txt',\n",
       " 'run007-cat': '../data/ds105/sub001/model/model001/onsets/task001_run007/cond003.txt',\n",
       " 'run007-chair': '../data/ds105/sub001/model/model001/onsets/task001_run007/cond007.txt',\n",
       " 'run007-face': '../data/ds105/sub001/model/model001/onsets/task001_run007/cond008.txt',\n",
       " 'run007-house': '../data/ds105/sub001/model/model001/onsets/task001_run007/cond001.txt',\n",
       " 'run007-scissors': '../data/ds105/sub001/model/model001/onsets/task001_run007/cond006.txt',\n",
       " 'run007-scrambledpix': '../data/ds105/sub001/model/model001/onsets/task001_run007/cond002.txt',\n",
       " 'run007-shoe': '../data/ds105/sub001/model/model001/onsets/task001_run007/cond004.txt',\n",
       " 'run008-bottle': '../data/ds105/sub001/model/model001/onsets/task001_run008/cond005.txt',\n",
       " 'run008-cat': '../data/ds105/sub001/model/model001/onsets/task001_run008/cond003.txt',\n",
       " 'run008-chair': '../data/ds105/sub001/model/model001/onsets/task001_run008/cond007.txt',\n",
       " 'run008-face': '../data/ds105/sub001/model/model001/onsets/task001_run008/cond008.txt',\n",
       " 'run008-house': '../data/ds105/sub001/model/model001/onsets/task001_run008/cond001.txt',\n",
       " 'run008-scissors': '../data/ds105/sub001/model/model001/onsets/task001_run008/cond006.txt',\n",
       " 'run008-scrambledpix': '../data/ds105/sub001/model/model001/onsets/task001_run008/cond002.txt',\n",
       " 'run008-shoe': '../data/ds105/sub001/model/model001/onsets/task001_run008/cond004.txt',\n",
       " 'run009-bottle': '../data/ds105/sub001/model/model001/onsets/task001_run009/cond005.txt',\n",
       " 'run009-cat': '../data/ds105/sub001/model/model001/onsets/task001_run009/cond003.txt',\n",
       " 'run009-chair': '../data/ds105/sub001/model/model001/onsets/task001_run009/cond007.txt',\n",
       " 'run009-face': '../data/ds105/sub001/model/model001/onsets/task001_run009/cond008.txt',\n",
       " 'run009-house': '../data/ds105/sub001/model/model001/onsets/task001_run009/cond001.txt',\n",
       " 'run009-scissors': '../data/ds105/sub001/model/model001/onsets/task001_run009/cond006.txt',\n",
       " 'run009-scrambledpix': '../data/ds105/sub001/model/model001/onsets/task001_run009/cond002.txt',\n",
       " 'run009-shoe': '../data/ds105/sub001/model/model001/onsets/task001_run009/cond004.txt',\n",
       " 'run010-bottle': '../data/ds105/sub001/model/model001/onsets/task001_run010/cond005.txt',\n",
       " 'run010-cat': '../data/ds105/sub001/model/model001/onsets/task001_run010/cond003.txt',\n",
       " 'run010-chair': '../data/ds105/sub001/model/model001/onsets/task001_run010/cond007.txt',\n",
       " 'run010-face': '../data/ds105/sub001/model/model001/onsets/task001_run010/cond008.txt',\n",
       " 'run010-house': '../data/ds105/sub001/model/model001/onsets/task001_run010/cond001.txt',\n",
       " 'run010-scissors': '../data/ds105/sub001/model/model001/onsets/task001_run010/cond006.txt',\n",
       " 'run010-scrambledpix': '../data/ds105/sub001/model/model001/onsets/task001_run010/cond002.txt',\n",
       " 'run010-shoe': '../data/ds105/sub001/model/model001/onsets/task001_run010/cond004.txt',\n",
       " 'run011-bottle': '../data/ds105/sub001/model/model001/onsets/task001_run011/cond005.txt',\n",
       " 'run011-cat': '../data/ds105/sub001/model/model001/onsets/task001_run011/cond003.txt',\n",
       " 'run011-chair': '../data/ds105/sub001/model/model001/onsets/task001_run011/cond007.txt',\n",
       " 'run011-face': '../data/ds105/sub001/model/model001/onsets/task001_run011/cond008.txt',\n",
       " 'run011-house': '../data/ds105/sub001/model/model001/onsets/task001_run011/cond001.txt',\n",
       " 'run011-scissors': '../data/ds105/sub001/model/model001/onsets/task001_run011/cond006.txt',\n",
       " 'run011-scrambledpix': '../data/ds105/sub001/model/model001/onsets/task001_run011/cond002.txt',\n",
       " 'run011-shoe': '../data/ds105/sub001/model/model001/onsets/task001_run011/cond004.txt',\n",
       " 'run012-bottle': '../data/ds105/sub001/model/model001/onsets/task001_run012/cond005.txt',\n",
       " 'run012-cat': '../data/ds105/sub001/model/model001/onsets/task001_run012/cond003.txt',\n",
       " 'run012-chair': '../data/ds105/sub001/model/model001/onsets/task001_run012/cond007.txt',\n",
       " 'run012-face': '../data/ds105/sub001/model/model001/onsets/task001_run012/cond008.txt',\n",
       " 'run012-house': '../data/ds105/sub001/model/model001/onsets/task001_run012/cond001.txt',\n",
       " 'run012-scissors': '../data/ds105/sub001/model/model001/onsets/task001_run012/cond006.txt',\n",
       " 'run012-scrambledpix': '../data/ds105/sub001/model/model001/onsets/task001_run012/cond002.txt',\n",
       " 'run012-shoe': '../data/ds105/sub001/model/model001/onsets/task001_run012/cond004.txt'}"
      ]
     },
     "execution_count": 77,
     "metadata": {},
     "output_type": "execute_result"
    }
   ],
   "source": [
    "sub1_condition_files"
   ]
  },
  {
   "cell_type": "code",
   "execution_count": 78,
   "metadata": {
    "collapsed": false
   },
   "outputs": [
    {
     "data": {
      "text/plain": [
       "'sub001'"
      ]
     },
     "execution_count": 78,
     "metadata": {},
     "output_type": "execute_result"
    }
   ],
   "source": [
    "sub1.sub_id"
   ]
  },
  {
   "cell_type": "code",
   "execution_count": 84,
   "metadata": {
    "collapsed": false
   },
   "outputs": [],
   "source": [
    "# %load get_object_neural.py\n",
    "\n",
    "def get_object_neural(sub_ID ,condition_dict, object_name, TR, n_vox, check = 0, ):\n",
    "    \"\"\"\n",
    "    get object neural array for specific object from all runs, odd runs or even runs\n",
    "    \n",
    "    parameters\n",
    "    ----------\n",
    "    condition_dict: dictionary of all condition files\n",
    "    object_name: desired object name: 'house','scrambledpix','cat','shoe','bottle','scissors','chair','face'\n",
    "    TR: TR for fMRI\n",
    "    n_vox: time course of fMRI\n",
    "    check: 1= odd runs, 2=even runs, others = all runs\n",
    "    \n",
    "    output\n",
    "    -------\n",
    "    a dictionary of run name : (neural array, path of the bold image) for that run\n",
    "    ex:\n",
    "    \n",
    "    {\n",
    "    'run001-bottle-neural': (array([ 0.,  0.,  0.,  0.,  0., ...]), bold path)\n",
    "    'run002-bottle-neural': (array([ 0.,  0.,  0.,  0.,  0., ...]), bold path)\n",
    "    }\n",
    "    \n",
    "    \n",
    "    \"\"\"\n",
    "    \n",
    "    condition_dict_key = condition_dict.keys()\n",
    "    result = {}\n",
    "    for i in condition_dict_key:\n",
    "        if check == 1:\n",
    "            if object_name in i:\n",
    "                if int(i[3:6])%2 ==1:\n",
    "                    result[i+'-neural'] = (events2neural(condition_dict[i], TR, n_vox), \"../data/ds105/%s/BOLD/task001_\"% sub_ID + i[:6]+\"/bold.nii.gz\")\n",
    "        elif check == 2:\n",
    "            if object_name in i: \n",
    "                if int(i[3:6])%2 ==0:\n",
    "                    result[i+'-neural'] = (events2neural(condition_dict[i], TR, n_vox), \"../data/ds105/%s/BOLD/task001_\"% sub_ID + i[:6]+\"/bold.nii.gz\")\n",
    "        else:\n",
    "            if object_name in i:\n",
    "                result[i+'-neural'] = (events2neural(condition_dict[i], TR, n_vox), \"../data/ds105/%s/BOLD/task001_\"%sub_ID + i[:6]+\"/bold.nii.gz\")\n",
    "    \n",
    "    return result\n",
    "\n",
    "\n"
   ]
  },
  {
   "cell_type": "code",
   "execution_count": 85,
   "metadata": {
    "collapsed": false
   },
   "outputs": [],
   "source": [
    "cat_odd_neural = get_object_neural(sub1.sub_id, sub1.conditions,\"cat\" , sub1.TR, sub1.BOLD_shape[-1], check=1)"
   ]
  },
  {
   "cell_type": "code",
   "execution_count": 86,
   "metadata": {
    "collapsed": false
   },
   "outputs": [
    {
     "data": {
      "text/plain": [
       "{'run001-cat-neural': (array([ 0.,  0.,  0.,  0.,  0.,  0.,  0.,  0.,  0.,  0.,  0.,  0.,  0.,\n",
       "          0.,  0.,  0.,  0.,  0.,  0.,  0.,  0.,  0.,  0.,  0.,  0.,  0.,\n",
       "          0.,  0.,  0.,  0.,  0.,  0.,  0.,  0.,  0.,  0.,  1.,  0.,  0.,\n",
       "          0.,  1.,  0.,  0.,  0.,  0.,  0.,  0.,  0.,  0.,  0.,  0.,  0.,\n",
       "          0.,  0.,  0.,  0.,  0.,  0.,  0.,  0.,  0.,  0.,  0.,  0.,  0.,\n",
       "          0.,  0.,  0.,  0.,  0.,  0.,  0.,  0.,  0.,  0.,  0.,  0.,  0.,\n",
       "          0.,  0.,  0.,  0.,  0.,  0.,  0.,  0.,  0.,  0.,  0.,  0.,  0.,\n",
       "          0.,  0.,  0.,  0.,  0.,  0.,  0.,  0.,  0.,  0.,  0.,  0.,  0.,\n",
       "          0.,  0.,  0.,  0.,  0.,  0.,  0.,  0.,  0.,  0.,  0.,  0.,  0.,\n",
       "          0.,  0.,  0.,  0.]),\n",
       "  '../data/ds105/sub001/BOLD/task001_run001/bold.nii.gz'),\n",
       " 'run003-cat-neural': (array([ 0.,  0.,  0.,  0.,  1.,  0.,  0.,  0.,  1.,  0.,  0.,  0.,  1.,\n",
       "          0.,  0.,  0.,  0.,  0.,  0.,  0.,  0.,  0.,  0.,  0.,  0.,  0.,\n",
       "          0.,  0.,  0.,  0.,  0.,  0.,  0.,  0.,  0.,  0.,  0.,  0.,  0.,\n",
       "          0.,  0.,  0.,  0.,  0.,  0.,  0.,  0.,  0.,  0.,  0.,  0.,  0.,\n",
       "          0.,  0.,  0.,  0.,  0.,  0.,  0.,  0.,  0.,  0.,  0.,  0.,  0.,\n",
       "          0.,  0.,  0.,  0.,  0.,  0.,  0.,  0.,  0.,  0.,  0.,  0.,  0.,\n",
       "          0.,  0.,  0.,  0.,  0.,  0.,  0.,  0.,  0.,  0.,  0.,  0.,  0.,\n",
       "          0.,  0.,  0.,  0.,  0.,  0.,  0.,  0.,  0.,  0.,  0.,  0.,  0.,\n",
       "          0.,  0.,  0.,  0.,  0.,  0.,  0.,  0.,  0.,  0.,  0.,  0.,  0.,\n",
       "          0.,  0.,  0.,  0.]),\n",
       "  '../data/ds105/sub001/BOLD/task001_run003/bold.nii.gz'),\n",
       " 'run005-cat-neural': (array([ 0.,  0.,  0.,  0.,  0.,  0.,  0.,  0.,  0.,  0.,  0.,  0.,  0.,\n",
       "          0.,  0.,  0.,  0.,  0.,  0.,  0.,  0.,  0.,  0.,  0.,  0.,  0.,\n",
       "          0.,  0.,  0.,  0.,  0.,  0.,  0.,  0.,  0.,  0.,  0.,  0.,  0.,\n",
       "          0.,  0.,  0.,  0.,  0.,  0.,  0.,  0.,  0.,  0.,  0.,  0.,  0.,\n",
       "          0.,  0.,  0.,  0.,  0.,  0.,  0.,  0.,  0.,  0.,  0.,  0.,  0.,\n",
       "          0.,  0.,  0.,  0.,  0.,  0.,  0.,  0.,  0.,  0.,  0.,  0.,  0.,\n",
       "          0.,  0.,  0.,  0.,  0.,  0.,  0.,  0.,  0.,  0.,  0.,  0.,  0.,\n",
       "          0.,  1.,  0.,  0.,  0.,  1.,  0.,  0.,  0.,  0.,  0.,  0.,  0.,\n",
       "          0.,  0.,  0.,  0.,  0.,  0.,  0.,  0.,  0.,  0.,  0.,  0.,  0.,\n",
       "          0.,  0.,  0.,  0.]),\n",
       "  '../data/ds105/sub001/BOLD/task001_run005/bold.nii.gz'),\n",
       " 'run007-cat-neural': (array([ 0.,  0.,  0.,  0.,  0.,  0.,  0.,  0.,  0.,  0.,  0.,  0.,  0.,\n",
       "          0.,  0.,  0.,  0.,  0.,  0.,  0.,  0.,  0.,  0.,  0.,  0.,  0.,\n",
       "          0.,  0.,  0.,  0.,  0.,  0.,  0.,  0.,  0.,  0.,  0.,  0.,  0.,\n",
       "          0.,  0.,  0.,  0.,  0.,  0.,  0.,  0.,  0.,  0.,  0.,  0.,  0.,\n",
       "          0.,  0.,  0.,  0.,  0.,  0.,  0.,  0.,  0.,  0.,  0.,  0.,  0.,\n",
       "          0.,  0.,  0.,  0.,  0.,  0.,  0.,  0.,  0.,  0.,  0.,  0.,  0.,\n",
       "          0.,  0.,  0.,  0.,  0.,  0.,  0.,  0.,  0.,  0.,  0.,  0.,  0.,\n",
       "          0.,  1.,  0.,  0.,  0.,  1.,  0.,  0.,  0.,  0.,  0.,  0.,  0.,\n",
       "          0.,  0.,  0.,  0.,  0.,  0.,  0.,  0.,  0.,  0.,  0.,  0.,  0.,\n",
       "          0.,  0.,  0.,  0.]),\n",
       "  '../data/ds105/sub001/BOLD/task001_run007/bold.nii.gz'),\n",
       " 'run009-cat-neural': (array([ 0.,  0.,  0.,  0.,  0.,  0.,  0.,  0.,  0.,  0.,  0.,  0.,  0.,\n",
       "          0.,  0.,  0.,  0.,  0.,  0.,  0.,  0.,  0.,  0.,  0.,  0.,  0.,\n",
       "          0.,  0.,  0.,  0.,  0.,  0.,  0.,  0.,  0.,  0.,  1.,  0.,  0.,\n",
       "          0.,  1.,  0.,  0.,  0.,  0.,  0.,  0.,  0.,  0.,  0.,  0.,  0.,\n",
       "          0.,  0.,  0.,  0.,  0.,  0.,  0.,  0.,  0.,  0.,  0.,  0.,  0.,\n",
       "          0.,  0.,  0.,  0.,  0.,  0.,  0.,  0.,  0.,  0.,  0.,  0.,  0.,\n",
       "          0.,  0.,  0.,  0.,  0.,  0.,  0.,  0.,  0.,  0.,  0.,  0.,  0.,\n",
       "          0.,  0.,  0.,  0.,  0.,  0.,  0.,  0.,  0.,  0.,  0.,  0.,  0.,\n",
       "          0.,  0.,  0.,  0.,  0.,  0.,  0.,  0.,  0.,  0.,  0.,  0.,  0.,\n",
       "          0.,  0.,  0.,  0.]),\n",
       "  '../data/ds105/sub001/BOLD/task001_run009/bold.nii.gz'),\n",
       " 'run011-cat-neural': (array([ 0.,  0.,  0.,  0.,  1.,  0.,  0.,  0.,  1.,  0.,  0.,  0.,  1.,\n",
       "          0.,  0.,  0.,  0.,  0.,  0.,  0.,  0.,  0.,  0.,  0.,  0.,  0.,\n",
       "          0.,  0.,  0.,  0.,  0.,  0.,  0.,  0.,  0.,  0.,  0.,  0.,  0.,\n",
       "          0.,  0.,  0.,  0.,  0.,  0.,  0.,  0.,  0.,  0.,  0.,  0.,  0.,\n",
       "          0.,  0.,  0.,  0.,  0.,  0.,  0.,  0.,  0.,  0.,  0.,  0.,  0.,\n",
       "          0.,  0.,  0.,  0.,  0.,  0.,  0.,  0.,  0.,  0.,  0.,  0.,  0.,\n",
       "          0.,  0.,  0.,  0.,  0.,  0.,  0.,  0.,  0.,  0.,  0.,  0.,  0.,\n",
       "          0.,  0.,  0.,  0.,  0.,  0.,  0.,  0.,  0.,  0.,  0.,  0.,  0.,\n",
       "          0.,  0.,  0.,  0.,  0.,  0.,  0.,  0.,  0.,  0.,  0.,  0.,  0.,\n",
       "          0.,  0.,  0.,  0.]),\n",
       "  '../data/ds105/sub001/BOLD/task001_run011/bold.nii.gz')}"
      ]
     },
     "execution_count": 86,
     "metadata": {},
     "output_type": "execute_result"
    }
   ],
   "source": [
    "cat_odd_neural"
   ]
  },
  {
   "cell_type": "code",
   "execution_count": 87,
   "metadata": {
    "collapsed": false
   },
   "outputs": [
    {
     "data": {
      "text/plain": [
       "(array([ 0.,  0.,  0.,  0.,  0.,  0.,  0.,  0.,  0.,  0.,  0.,  0.,  0.,\n",
       "         0.,  0.,  0.,  0.,  0.,  0.,  0.,  0.,  0.,  0.,  0.,  0.,  0.,\n",
       "         0.,  0.,  0.,  0.,  0.,  0.,  0.,  0.,  0.,  0.,  1.,  0.,  0.,\n",
       "         0.,  1.,  0.,  0.,  0.,  0.,  0.,  0.,  0.,  0.,  0.,  0.,  0.,\n",
       "         0.,  0.,  0.,  0.,  0.,  0.,  0.,  0.,  0.,  0.,  0.,  0.,  0.,\n",
       "         0.,  0.,  0.,  0.,  0.,  0.,  0.,  0.,  0.,  0.,  0.,  0.,  0.,\n",
       "         0.,  0.,  0.,  0.,  0.,  0.,  0.,  0.,  0.,  0.,  0.,  0.,  0.,\n",
       "         0.,  0.,  0.,  0.,  0.,  0.,  0.,  0.,  0.,  0.,  0.,  0.,  0.,\n",
       "         0.,  0.,  0.,  0.,  0.,  0.,  0.,  0.,  0.,  0.,  0.,  0.,  0.,\n",
       "         0.,  0.,  0.,  0.]),\n",
       " '../data/ds105/sub001/BOLD/task001_run001/bold.nii.gz')"
      ]
     },
     "execution_count": 87,
     "metadata": {},
     "output_type": "execute_result"
    }
   ],
   "source": [
    "cat_odd_neural['run001-cat-neural']"
   ]
  },
  {
   "cell_type": "code",
   "execution_count": 90,
   "metadata": {
    "collapsed": false
   },
   "outputs": [],
   "source": [
    "# %load ObtainData.py\n",
    "import numpy as np\n",
    "import matplotlib.pyplot as plt\n",
    "import nibabel as nib\n",
    "\n",
    "def pull3D(DictionaryOfVectors):\n",
    "\tThree_D_Data = []\n",
    "\tfor key, value in DictionaryOfVectors.iteritems():\n",
    "\t\tvector = value[0]\n",
    "\t\tfileLocation = value[1]\n",
    "\t\timg = nib.load(fileLocation)\n",
    "\t\tdata = img.get_data()\n",
    "\t\tfor i in range(0, len(vector)):\n",
    "\t\t\tif vector[i] == 1:\n",
    "\t\t\t\tThree_D_Data.append(data[:, :, :, i])\n",
    "\treturn Three_D_Data\n",
    "\n",
    "def ShowCortex(ListOf3dImages):\n",
    "\tfor image in ListOf3dImages:\n",
    "\t\tzDimension = np.shape(image)[2]\n",
    "\t\tfor i in range(0, zDimension):\n",
    "\t\t\tplt.imshow(image[:, :, i], cmap = \"gray\")\n",
    "\t\t\tplt.show()\n",
    "\n",
    "# You'll have to guess the Z value from the images show in the previous function\n",
    "def generateEvenlySpacedZpoints(zValue):\n",
    "\treturn np.linspace(start = 0, stop = zValue, num = zValue)"
   ]
  },
  {
   "cell_type": "code",
   "execution_count": 91,
   "metadata": {
    "collapsed": false
   },
   "outputs": [],
   "source": [
    "aa =pull3D(cat_odd_neural)"
   ]
  },
  {
   "cell_type": "code",
   "execution_count": 92,
   "metadata": {
    "collapsed": false
   },
   "outputs": [
    {
     "data": {
      "text/plain": [
       "14"
      ]
     },
     "execution_count": 92,
     "metadata": {},
     "output_type": "execute_result"
    }
   ],
   "source": [
    "len(aa)"
   ]
  }
 ],
 "metadata": {
  "kernelspec": {
   "display_name": "Python 2",
   "language": "python",
   "name": "python2"
  },
  "language_info": {
   "codemirror_mode": {
    "name": "ipython",
    "version": 2
   },
   "file_extension": ".py",
   "mimetype": "text/x-python",
   "name": "python",
   "nbconvert_exporter": "python",
   "pygments_lexer": "ipython2",
   "version": "2.7.9"
  }
 },
 "nbformat": 4,
 "nbformat_minor": 0
}
